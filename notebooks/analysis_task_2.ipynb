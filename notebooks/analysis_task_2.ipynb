{
 "cells": [
  {
   "cell_type": "code",
   "execution_count": 41,
   "metadata": {},
   "outputs": [],
   "source": [
    "import pandas as pd\n",
    "import os , sys\n",
    "import yaml\n",
    "import matplotlib as plt\n",
    "import matplotlib.pyplot as plt\n",
    "import talib\n",
    "notebook_dir = os.getcwd()\n",
    "\n",
    "sys.path.append(os.path.abspath(os.path.join(notebook_dir, '..')))"
   ]
  },
  {
   "cell_type": "code",
   "execution_count": 43,
   "metadata": {},
   "outputs": [],
   "source": [
    "# Add the 'scripts' directory to the Python path\n",
    "sys.path.append(os.path.abspath('../scripts'))\n",
    "\n",
    "from data_loader import load_data"
   ]
  }
 ],
 "metadata": {
  "kernelspec": {
   "display_name": "novenv",
   "language": "python",
   "name": "python3"
  },
  "language_info": {
   "codemirror_mode": {
    "name": "ipython",
    "version": 3
   },
   "file_extension": ".py",
   "mimetype": "text/x-python",
   "name": "python",
   "nbconvert_exporter": "python",
   "pygments_lexer": "ipython3",
   "version": "3.12.2"
  }
 },
 "nbformat": 4,
 "nbformat_minor": 2
}
